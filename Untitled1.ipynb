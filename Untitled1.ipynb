{
  "nbformat": 4,
  "nbformat_minor": 0,
  "metadata": {
    "colab": {
      "provenance": []
    },
    "kernelspec": {
      "name": "python3",
      "display_name": "Python 3"
    },
    "language_info": {
      "name": "python"
    }
  },
  "cells": [
    {
      "cell_type": "code",
      "execution_count": 2,
      "metadata": {
        "id": "UYdThMy_rDQY"
      },
      "outputs": [],
      "source": []
    },
    {
      "cell_type": "code",
      "source": [
        "import torch\n",
        "import torch.nn as nn\n",
        "import torch.nn.utils.prune as prune\n",
        "import torch.optim as optim\n",
        "from torchvision import datasets, transforms\n",
        "from torch.utils.data import DataLoader\n",
        "\n",
        "class SimpleCNN(nn.Module):\n",
        "    def __init__(self):\n",
        "        super(SimpleCNN, self).__init__()\n",
        "        self.conv1 = nn.Conv2d(1, 32, 3, 1)\n",
        "        self.conv2 = nn.Conv2d(32, 64, 3, 1)\n",
        "        # Dynamically calculate the size after convolutional layers\n",
        "        self._to_linear = None\n",
        "        self.fc1 = nn.Linear(self._get_conv_output_size(), 128)\n",
        "        self.fc2 = nn.Linear(128, 10)\n",
        "\n",
        "    def _get_conv_output_size(self):\n",
        "        # Create a dummy input to calculate the output size of conv layers\n",
        "        dummy_input = torch.randn(1, 1, 28, 28) # Assuming MNIST image size of 28x28\n",
        "        x = torch.relu(self.conv1(dummy_input))\n",
        "        x = torch.relu(self.conv2(x))\n",
        "        return x.flatten(1).size(1)\n",
        "\n",
        "    def forward(self, x):\n",
        "        x = torch.relu(self.conv1(x))\n",
        "        x = torch.relu(self.conv2(x))\n",
        "        x = torch.flatten(x, 1)\n",
        "        x = torch.relu(self.fc1(x))\n",
        "        x = self.fc2(x)\n",
        "        return x\n",
        "\n",
        "def train(model, device, train_loader, optimizer, epoch):\n",
        "    model.train()\n",
        "    for batch_idx, (data, target) in enumerate(train_loader):\n",
        "        data, target = data.to(device), target.to(device)\n",
        "        optimizer.zero_grad()\n",
        "        output = model(data)\n",
        "        loss = nn.CrossEntropyLoss()(output, target)\n",
        "        loss.backward()\n",
        "        optimizer.step()\n",
        "\n",
        "def test(model, device, test_loader):\n",
        "    model.eval()\n",
        "    correct = 0\n",
        "    with torch.no_grad():\n",
        "        for data, target in test_loader:\n",
        "            data, target = data.to(device), target.to(device)\n",
        "            output = model(data)\n",
        "            pred = output.argmax(dim=1, keepdim=True)\n",
        "            correct += pred.eq(target.view_as(pred)).sum().item()\n",
        "    return 100. * correct / len(test_loader.dataset)\n",
        "\n",
        "def global_magnitude_pruning(model, amount):\n",
        "    parameters_to_prune = []\n",
        "    for name, module in model.named_modules():\n",
        "        if isinstance(module, (nn.Conv2d, nn.Linear)):\n",
        "            parameters_to_prune.append((module, 'weight'))\n",
        "\n",
        "    prune.global_unstructured(\n",
        "        parameters_to_prune,\n",
        "        pruning_method=prune.L1Unstructured,\n",
        "        amount=amount,\n",
        "    )\n",
        "\n",
        "    # Remove pruning reparameterization to make pruning permanent\n",
        "    for module, _ in parameters_to_prune:\n",
        "        prune.remove(module, 'weight')\n",
        "\n",
        "# Configuration\n",
        "device = torch.device(\"cuda\" if torch.cuda.is_available() else \"cpu\")\n",
        "transform = transforms.Compose([transforms.ToTensor()])\n",
        "train_dataset = datasets.MNIST('../data', train=True, download=True, transform=transform)\n",
        "test_dataset = datasets.MNIST('../data', train=False, transform=transform)\n",
        "train_loader = DataLoader(train_dataset, batch_size=64, shuffle=True)\n",
        "test_loader = DataLoader(test_dataset, batch_size=1000, shuffle=False)\n",
        "\n",
        "# Entraînement initial\n",
        "model = SimpleCNN().to(device)\n",
        "optimizer = optim.Adam(model.parameters(), lr=0.001)\n",
        "\n",
        "print(\"Entraînement du modèle initial...\")\n",
        "for epoch in range(5):\n",
        "    train(model, device, train_loader, optimizer, epoch)\n",
        "    accuracy = test(model, device, test_loader)\n",
        "    print(f\"Époque {epoch+1}, Précision: {accuracy:.2f}%\")\n",
        "\n",
        "# Application du pruning\n",
        "print(\"\\nApplication du pruning...\")\n",
        "global_magnitude_pruning(model, amount=0.5)\n",
        "sparsity = 100. * float(torch.sum(model.conv1.weight == 0) +\n",
        "                       torch.sum(model.conv2.weight == 0) +\n",
        "                       torch.sum(model.fc1.weight == 0) +\n",
        "                       torch.sum(model.fc2.weight == 0)) / float(model.conv1.weight.nelement() +\n",
        "                                                              model.conv2.weight.nelement() +\n",
        "                                                              model.fc1.weight.nelement() +\n",
        "                                                              model.fc2.weight.nelement())\n",
        "print(f\"Éparsité après pruning: {sparsity:.2f}%\")\n",
        "\n",
        "# Fine-tuning après pruning\n",
        "print(\"\\nFine-tuning après pruning...\")\n",
        "for epoch in range(3):\n",
        "    train(model, device, train_loader, optimizer, epoch)\n",
        "    accuracy = test(model, device, test_loader)\n",
        "    print(f\"Époque {epoch+1}, Précision: {accuracy:.2f}%\")"
      ],
      "metadata": {
        "colab": {
          "base_uri": "https://localhost:8080/"
        },
        "id": "6a4YM4dirF62",
        "outputId": "58f6d8e9-b37b-4699-92ff-30c7eeda82b1"
      },
      "execution_count": null,
      "outputs": [
        {
          "output_type": "stream",
          "name": "stdout",
          "text": [
            "Entraînement du modèle initial...\n",
            "Époque 1, Précision: 98.41%\n",
            "Époque 2, Précision: 98.68%\n",
            "Époque 3, Précision: 98.60%\n",
            "Époque 4, Précision: 98.76%\n"
          ]
        }
      ]
    }
  ]
}